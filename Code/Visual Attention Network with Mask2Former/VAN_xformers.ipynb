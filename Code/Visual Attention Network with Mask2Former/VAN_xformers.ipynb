{
 "cells": [
  {
   "cell_type": "code",
   "execution_count": 2,
   "id": "8fe9383d",
   "metadata": {},
   "outputs": [
    {
     "name": "stdout",
     "output_type": "stream",
     "text": [
      "Looking in indexes: https://download.pytorch.org/whl/cu124\n",
      "Requirement already satisfied: xformers in /home/nikolas/venvs/Thesis/lib/python3.12/site-packages (0.0.29.post3)\n",
      "Requirement already satisfied: numpy in /home/nikolas/venvs/Thesis/lib/python3.12/site-packages (from xformers) (2.2.5)\n",
      "Requirement already satisfied: torch==2.6.0 in /home/nikolas/venvs/Thesis/lib/python3.12/site-packages (from xformers) (2.6.0+cu124)\n",
      "Requirement already satisfied: filelock in /home/nikolas/venvs/Thesis/lib/python3.12/site-packages (from torch==2.6.0->xformers) (3.18.0)\n",
      "Requirement already satisfied: typing-extensions>=4.10.0 in /home/nikolas/venvs/Thesis/lib/python3.12/site-packages (from torch==2.6.0->xformers) (4.13.2)\n",
      "Requirement already satisfied: networkx in /home/nikolas/venvs/Thesis/lib/python3.12/site-packages (from torch==2.6.0->xformers) (3.3)\n",
      "Requirement already satisfied: jinja2 in /home/nikolas/venvs/Thesis/lib/python3.12/site-packages (from torch==2.6.0->xformers) (3.1.4)\n",
      "Requirement already satisfied: fsspec in /home/nikolas/venvs/Thesis/lib/python3.12/site-packages (from torch==2.6.0->xformers) (2025.3.2)\n",
      "Requirement already satisfied: nvidia-cuda-nvrtc-cu12==12.4.127 in /home/nikolas/venvs/Thesis/lib/python3.12/site-packages (from torch==2.6.0->xformers) (12.4.127)\n",
      "Requirement already satisfied: nvidia-cuda-runtime-cu12==12.4.127 in /home/nikolas/venvs/Thesis/lib/python3.12/site-packages (from torch==2.6.0->xformers) (12.4.127)\n",
      "Requirement already satisfied: nvidia-cuda-cupti-cu12==12.4.127 in /home/nikolas/venvs/Thesis/lib/python3.12/site-packages (from torch==2.6.0->xformers) (12.4.127)\n",
      "Requirement already satisfied: nvidia-cudnn-cu12==9.1.0.70 in /home/nikolas/venvs/Thesis/lib/python3.12/site-packages (from torch==2.6.0->xformers) (9.1.0.70)\n",
      "Requirement already satisfied: nvidia-cublas-cu12==12.4.5.8 in /home/nikolas/venvs/Thesis/lib/python3.12/site-packages (from torch==2.6.0->xformers) (12.4.5.8)\n",
      "Requirement already satisfied: nvidia-cufft-cu12==11.2.1.3 in /home/nikolas/venvs/Thesis/lib/python3.12/site-packages (from torch==2.6.0->xformers) (11.2.1.3)\n",
      "Requirement already satisfied: nvidia-curand-cu12==10.3.5.147 in /home/nikolas/venvs/Thesis/lib/python3.12/site-packages (from torch==2.6.0->xformers) (10.3.5.147)\n",
      "Requirement already satisfied: nvidia-cusolver-cu12==11.6.1.9 in /home/nikolas/venvs/Thesis/lib/python3.12/site-packages (from torch==2.6.0->xformers) (11.6.1.9)\n",
      "Requirement already satisfied: nvidia-cusparse-cu12==12.3.1.170 in /home/nikolas/venvs/Thesis/lib/python3.12/site-packages (from torch==2.6.0->xformers) (12.3.1.170)\n",
      "Requirement already satisfied: nvidia-cusparselt-cu12==0.6.2 in /home/nikolas/venvs/Thesis/lib/python3.12/site-packages (from torch==2.6.0->xformers) (0.6.2)\n",
      "Requirement already satisfied: nvidia-nccl-cu12==2.21.5 in /home/nikolas/venvs/Thesis/lib/python3.12/site-packages (from torch==2.6.0->xformers) (2.21.5)\n",
      "Requirement already satisfied: nvidia-nvtx-cu12==12.4.127 in /home/nikolas/venvs/Thesis/lib/python3.12/site-packages (from torch==2.6.0->xformers) (12.4.127)\n",
      "Requirement already satisfied: nvidia-nvjitlink-cu12==12.4.127 in /home/nikolas/venvs/Thesis/lib/python3.12/site-packages (from torch==2.6.0->xformers) (12.4.127)\n",
      "Requirement already satisfied: triton==3.2.0 in /home/nikolas/venvs/Thesis/lib/python3.12/site-packages (from torch==2.6.0->xformers) (3.2.0)\n",
      "Requirement already satisfied: setuptools in /home/nikolas/venvs/Thesis/lib/python3.12/site-packages (from torch==2.6.0->xformers) (70.2.0)\n",
      "Requirement already satisfied: sympy==1.13.1 in /home/nikolas/venvs/Thesis/lib/python3.12/site-packages (from torch==2.6.0->xformers) (1.13.1)\n",
      "Requirement already satisfied: mpmath<1.4,>=1.1.0 in /home/nikolas/venvs/Thesis/lib/python3.12/site-packages (from sympy==1.13.1->torch==2.6.0->xformers) (1.3.0)\n",
      "Requirement already satisfied: MarkupSafe>=2.0 in /home/nikolas/venvs/Thesis/lib/python3.12/site-packages (from jinja2->torch==2.6.0->xformers) (2.1.5)\n",
      "Requirement already satisfied: torch in /home/nikolas/venvs/Thesis/lib/python3.12/site-packages (2.6.0+cu124)\n",
      "Requirement already satisfied: filelock in /home/nikolas/venvs/Thesis/lib/python3.12/site-packages (from torch) (3.18.0)\n",
      "Requirement already satisfied: typing-extensions>=4.10.0 in /home/nikolas/venvs/Thesis/lib/python3.12/site-packages (from torch) (4.13.2)\n",
      "Requirement already satisfied: networkx in /home/nikolas/venvs/Thesis/lib/python3.12/site-packages (from torch) (3.3)\n",
      "Requirement already satisfied: jinja2 in /home/nikolas/venvs/Thesis/lib/python3.12/site-packages (from torch) (3.1.4)\n",
      "Requirement already satisfied: fsspec in /home/nikolas/venvs/Thesis/lib/python3.12/site-packages (from torch) (2025.3.2)\n",
      "Requirement already satisfied: nvidia-cuda-nvrtc-cu12==12.4.127 in /home/nikolas/venvs/Thesis/lib/python3.12/site-packages (from torch) (12.4.127)\n",
      "Requirement already satisfied: nvidia-cuda-runtime-cu12==12.4.127 in /home/nikolas/venvs/Thesis/lib/python3.12/site-packages (from torch) (12.4.127)\n",
      "Requirement already satisfied: nvidia-cuda-cupti-cu12==12.4.127 in /home/nikolas/venvs/Thesis/lib/python3.12/site-packages (from torch) (12.4.127)\n",
      "Requirement already satisfied: nvidia-cudnn-cu12==9.1.0.70 in /home/nikolas/venvs/Thesis/lib/python3.12/site-packages (from torch) (9.1.0.70)\n",
      "Requirement already satisfied: nvidia-cublas-cu12==12.4.5.8 in /home/nikolas/venvs/Thesis/lib/python3.12/site-packages (from torch) (12.4.5.8)\n",
      "Requirement already satisfied: nvidia-cufft-cu12==11.2.1.3 in /home/nikolas/venvs/Thesis/lib/python3.12/site-packages (from torch) (11.2.1.3)\n",
      "Requirement already satisfied: nvidia-curand-cu12==10.3.5.147 in /home/nikolas/venvs/Thesis/lib/python3.12/site-packages (from torch) (10.3.5.147)\n",
      "Requirement already satisfied: nvidia-cusolver-cu12==11.6.1.9 in /home/nikolas/venvs/Thesis/lib/python3.12/site-packages (from torch) (11.6.1.9)\n",
      "Requirement already satisfied: nvidia-cusparse-cu12==12.3.1.170 in /home/nikolas/venvs/Thesis/lib/python3.12/site-packages (from torch) (12.3.1.170)\n",
      "Requirement already satisfied: nvidia-cusparselt-cu12==0.6.2 in /home/nikolas/venvs/Thesis/lib/python3.12/site-packages (from torch) (0.6.2)\n",
      "Requirement already satisfied: nvidia-nccl-cu12==2.21.5 in /home/nikolas/venvs/Thesis/lib/python3.12/site-packages (from torch) (2.21.5)\n",
      "Requirement already satisfied: nvidia-nvtx-cu12==12.4.127 in /home/nikolas/venvs/Thesis/lib/python3.12/site-packages (from torch) (12.4.127)\n",
      "Requirement already satisfied: nvidia-nvjitlink-cu12==12.4.127 in /home/nikolas/venvs/Thesis/lib/python3.12/site-packages (from torch) (12.4.127)\n",
      "Requirement already satisfied: triton==3.2.0 in /home/nikolas/venvs/Thesis/lib/python3.12/site-packages (from torch) (3.2.0)\n",
      "Requirement already satisfied: setuptools in /home/nikolas/venvs/Thesis/lib/python3.12/site-packages (from torch) (70.2.0)\n",
      "Requirement already satisfied: sympy==1.13.1 in /home/nikolas/venvs/Thesis/lib/python3.12/site-packages (from torch) (1.13.1)\n",
      "Requirement already satisfied: mpmath<1.4,>=1.1.0 in /home/nikolas/venvs/Thesis/lib/python3.12/site-packages (from sympy==1.13.1->torch) (1.3.0)\n",
      "Requirement already satisfied: MarkupSafe>=2.0 in /home/nikolas/venvs/Thesis/lib/python3.12/site-packages (from jinja2->torch) (2.1.5)\n"
     ]
    }
   ],
   "source": [
    "!pip3 install -U xformers --index-url https://download.pytorch.org/whl/cu124 # This is used only for Linux, Windows and for cuda 12.4 version. To check cuda version run nvidia-smi in terminal.\n",
    "!pip3 install torch # This will install the latest version of torch"
   ]
  },
  {
   "cell_type": "code",
   "execution_count": 4,
   "id": "dfe2f052",
   "metadata": {},
   "outputs": [],
   "source": [
    "import torch\n",
    "import torch.nn as nn\n",
    "from xformers.components.attention import ScaledDotProduct\n",
    "from xformers.components.attention import build_attention\n",
    "from xformers.components.attention.utils import maybe_merge_masks\n",
    "\n",
    "class LKAWithXformers(nn.Module):\n",
    "    def __init__(self, dim, heads=4):\n",
    "        super().__init__()\n",
    "        self.qkv_proj = nn.Linear(dim, dim * 3)\n",
    "        self.attn = build_attention(\n",
    "            {\n",
    "                \"name\": \"scaled_dot_product\",\n",
    "                \"dropout\": 0.0,\n",
    "                \"causal\": False,\n",
    "            }\n",
    "        )\n",
    "        self.out_proj = nn.Linear(dim, dim)\n",
    "        self.norm = nn.LayerNorm(dim)\n",
    "        self.heads = heads\n",
    "        self.dim = dim\n",
    "\n",
    "    def forward(self, x):\n",
    "        B, C, H, W = x.shape\n",
    "        x_flat = x.flatten(2).transpose(1, 2)  # B x HW x C\n",
    "        x_norm = self.norm(x_flat)\n",
    "\n",
    "        qkv = self.qkv_proj(x_norm).chunk(3, dim=-1)\n",
    "        attn_out = self.attn(qkv[0], qkv[1], qkv[2], attn_mask=None)[0]  # B x HW x C\n",
    "\n",
    "        out = self.out_proj(attn_out)\n",
    "        out = out.transpose(1, 2).view(B, C, H, W)\n",
    "        return out * x  # Attention-modulated features\n"
   ]
  }
 ],
 "metadata": {
  "kernelspec": {
   "display_name": "Thesis",
   "language": "python",
   "name": "python3"
  },
  "language_info": {
   "codemirror_mode": {
    "name": "ipython",
    "version": 3
   },
   "file_extension": ".py",
   "mimetype": "text/x-python",
   "name": "python",
   "nbconvert_exporter": "python",
   "pygments_lexer": "ipython3",
   "version": "3.12.3"
  }
 },
 "nbformat": 4,
 "nbformat_minor": 5
}
